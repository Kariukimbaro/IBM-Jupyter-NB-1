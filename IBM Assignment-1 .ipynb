{
 "cells": [
  {
   "cell_type": "markdown",
   "id": "fae440cf",
   "metadata": {},
   "source": [
    "# Data Science Tools and Ecosystem"
   ]
  },
  {
   "cell_type": "markdown",
   "id": "380952ea",
   "metadata": {},
   "source": [
    "In this notebook, Data Science Tools and Ecosystem are summarized.\n",
    "\n",
    "# Objectives:\n",
    "- Create a code cell that converts minutes to hours by dividing by 60.\n",
    "- Create a code cell to add and multiply.\n",
    "- Create a makedown cell with a table."
   ]
  },
  {
   "cell_type": "markdown",
   "id": "95a9f7c8",
   "metadata": {},
   "source": [
    "Some of the popular languages that Data Scientists use are:\n",
    "1. Python\n",
    "2. C++\n",
    "3. C\n",
    "4. R\n",
    "5. Java\n"
   ]
  },
  {
   "cell_type": "markdown",
   "id": "877eeff0",
   "metadata": {},
   "source": [
    "|Data Science Tools|\n",
    "|------------------|\n",
    "|Jupyter|\n",
    "|R Studio|\n",
    "|Spyder|\n"
   ]
  },
  {
   "cell_type": "markdown",
   "id": "e0ce8203",
   "metadata": {},
   "source": [
    "### Below is an example of evaluating arithmetic expression in Python\n",
    "$ x^2+y^2=z^2 $"
   ]
  },
  {
   "cell_type": "code",
   "execution_count": 11,
   "id": "872d17ec",
   "metadata": {},
   "outputs": [
    {
     "data": {
      "text/plain": [
       "17"
      ]
     },
     "execution_count": 11,
     "metadata": {},
     "output_type": "execute_result"
    }
   ],
   "source": [
    "This a simple arithmetic expression to mutiply then add integers.\n",
    "(3*4)+5"
   ]
  },
  {
   "cell_type": "code",
   "execution_count": 15,
   "id": "f5d8f87f",
   "metadata": {},
   "outputs": [
    {
     "name": "stdout",
     "output_type": "stream",
     "text": [
      "3.3333333333333335\n"
     ]
    }
   ],
   "source": [
    "### This will convert 200 minutes to hours by diving by 60.\n",
    "a= (200/60)\n",
    "print(a)\n"
   ]
  },
  {
   "cell_type": "markdown",
   "id": "3b677daf",
   "metadata": {},
   "source": [
    "## Author\n",
    "Kariuki Mbaro"
   ]
  },
  {
   "cell_type": "code",
   "execution_count": null,
   "id": "90187c32",
   "metadata": {},
   "outputs": [],
   "source": []
  }
 ],
 "metadata": {
  "kernelspec": {
   "display_name": "Python 3 (ipykernel)",
   "language": "python",
   "name": "python3"
  },
  "language_info": {
   "codemirror_mode": {
    "name": "ipython",
    "version": 3
   },
   "file_extension": ".py",
   "mimetype": "text/x-python",
   "name": "python",
   "nbconvert_exporter": "python",
   "pygments_lexer": "ipython3",
   "version": "3.11.4"
  }
 },
 "nbformat": 4,
 "nbformat_minor": 5
}
